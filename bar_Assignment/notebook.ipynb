{
 "cells": [
  {
   "cell_type": "markdown",
   "metadata": {},
   "source": [
    "### Bar Assignment"
   ]
  },
  {
   "cell_type": "code",
   "execution_count": 1,
   "metadata": {},
   "outputs": [],
   "source": [
    "import plotly.io as pio\n",
    "pio.renderers.default = \"notebook\""
   ]
  },
  {
   "cell_type": "code",
   "execution_count": null,
   "metadata": {},
   "outputs": [],
   "source": [
    "!pip install matplotlib"
   ]
  },
  {
   "cell_type": "code",
   "execution_count": 4,
   "metadata": {},
   "outputs": [
    {
     "ename": "ModuleNotFoundError",
     "evalue": "No module named 'matplotlib'",
     "output_type": "error",
     "traceback": [
      "\u001b[1;31m---------------------------------------------------------------------------\u001b[0m",
      "\u001b[1;31mModuleNotFoundError\u001b[0m                       Traceback (most recent call last)",
      "Cell \u001b[1;32mIn[4], line 2\u001b[0m\n\u001b[0;32m      1\u001b[0m \u001b[38;5;28;01mimport\u001b[39;00m\u001b[38;5;250m \u001b[39m\u001b[38;5;21;01mpandas\u001b[39;00m\u001b[38;5;250m \u001b[39m\u001b[38;5;28;01mas\u001b[39;00m\u001b[38;5;250m \u001b[39m\u001b[38;5;21;01mpd\u001b[39;00m\n\u001b[1;32m----> 2\u001b[0m \u001b[38;5;28;01mimport\u001b[39;00m\u001b[38;5;250m \u001b[39m\u001b[38;5;21;01mmatplotlib\u001b[39;00m\u001b[38;5;21;01m.\u001b[39;00m\u001b[38;5;21;01mpyplot\u001b[39;00m\u001b[38;5;250m \u001b[39m\u001b[38;5;28;01mas\u001b[39;00m\u001b[38;5;250m \u001b[39m\u001b[38;5;21;01mplt\u001b[39;00m\n\u001b[0;32m      4\u001b[0m df \u001b[38;5;241m=\u001b[39m pd\u001b[38;5;241m.\u001b[39mread_csv(\u001b[38;5;124m'\u001b[39m\u001b[38;5;124mbar_assignment.csv\u001b[39m\u001b[38;5;124m'\u001b[39m)\n\u001b[0;32m      5\u001b[0m df[\u001b[38;5;124m'\u001b[39m\u001b[38;5;124mSlist\u001b[39m\u001b[38;5;124m'\u001b[39m] \u001b[38;5;241m=\u001b[39m df[[\u001b[38;5;124m'\u001b[39m\u001b[38;5;124mLABEL\u001b[39m\u001b[38;5;124m'\u001b[39m,\u001b[38;5;124m'\u001b[39m\u001b[38;5;124mCOUNT\u001b[39m\u001b[38;5;124m'\u001b[39m]]\u001b[38;5;241m.\u001b[39mapply(\u001b[38;5;28;01mlambda\u001b[39;00m x: \u001b[38;5;124m'\u001b[39m\u001b[38;5;124mYes\u001b[39m\u001b[38;5;124m'\u001b[39m \u001b[38;5;28;01mif\u001b[39;00m x[\u001b[38;5;124m'\u001b[39m\u001b[38;5;124mLABEL\u001b[39m\u001b[38;5;124m'\u001b[39m] \u001b[38;5;241m==\u001b[39m \u001b[38;5;124m'\u001b[39m\u001b[38;5;124mS\u001b[39m\u001b[38;5;124m'\u001b[39m \u001b[38;5;129;01mand\u001b[39;00m x[\u001b[38;5;124m'\u001b[39m\u001b[38;5;124mCOUNT\u001b[39m\u001b[38;5;124m'\u001b[39m] \u001b[38;5;241m==\u001b[39m \u001b[38;5;241m1\u001b[39m \u001b[38;5;28;01melse\u001b[39;00m \u001b[38;5;124m'\u001b[39m\u001b[38;5;124mNo\u001b[39m\u001b[38;5;124m'\u001b[39m, axis\u001b[38;5;241m=\u001b[39m\u001b[38;5;241m1\u001b[39m)\n",
      "\u001b[1;31mModuleNotFoundError\u001b[0m: No module named 'matplotlib'"
     ]
    }
   ],
   "source": [
    "import pandas as pd\n",
    "import matplotlib.pyplot as plt\n",
    "\n",
    "df = pd.read_csv('bar_assignment.csv')\n",
    "df['Slist'] = df[['LABEL','COUNT']].apply(lambda x: 'Yes' if x['LABEL'] == 'S' and x['COUNT'] == 1 else 'No', axis=1)\n",
    "df['Nlist'] = df[['LABEL','COUNT']].apply(lambda x: 'Yes' if x['LABEL'] == 'N' and x['COUNT'] == 1 else 'No', axis=1)\n",
    "df['Ilist'] = df[['LABEL','COUNT']].apply(lambda x: 'Yes' if x['LABEL'] == 'I' and x['COUNT'] == 1 else 'No', axis=1)\n",
    "df['Flist'] = df[['LABEL','COUNT']].apply(lambda x: 'Yes' if x['LABEL'] == 'F' and x['COUNT'] == 1 else 'No', axis=1)\n",
    "df['Dlist'] = df[['LABEL','COUNT']].apply(lambda x: 'Yes' if x['LABEL'] == 'D' and x['COUNT'] == 1 else 'No', axis=1)\n",
    "\n",
    "counts = df.groupby('LABEL')['COUNT'].value_counts().unstack(fill_value=0)\n",
    "yes_counts = counts[1]  # Count of \"Yes\" responses\n",
    "no_counts = counts[0]   # Count of \"No\" responses\n",
    "\n",
    "fig, ax = plt.subplots(figsize=(8, 6))\n",
    "bars_yes = plt.barh(yes_counts.index, yes_counts,left= no_counts, color='blue', label='Yes')\n",
    "bars_no = plt.barh(no_counts.index, no_counts, color='red', label='No')\n",
    "\n",
    "for i, (yes, no) in enumerate(zip(yes_counts, no_counts)):\n",
    "    plt.text(no / 2, i, f'{no}', ha='center', va='center', color='white', fontweight='bold')\n",
    "    \n",
    "    plt.text(no + yes / 2, i, f'{yes}', ha='center', va='center', color='white', fontweight='bold')\n",
    "\n",
    "plt.title('Horizontal Stacked Bar Chart: Yes vs No', fontsize=14, fontweight='bold', pad=15)\n",
    "\n",
    "plt.legend(loc='upper left', fontsize=10, frameon=True, title='Legend Here', title_fontsize='12')\n",
    "\n",
    "plt.show()"
   ]
  }
 ],
 "metadata": {
  "kernelspec": {
   "display_name": "Python 3",
   "language": "python",
   "name": "python3"
  },
  "language_info": {
   "codemirror_mode": {
    "name": "ipython",
    "version": 3
   },
   "file_extension": ".py",
   "mimetype": "text/x-python",
   "name": "python",
   "nbconvert_exporter": "python",
   "pygments_lexer": "ipython3",
   "version": "3.13.2"
  }
 },
 "nbformat": 4,
 "nbformat_minor": 2
}
