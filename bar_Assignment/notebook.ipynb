{
 "cells": [
  {
   "cell_type": "markdown",
   "metadata": {},
   "source": [
    "### Bar Assignment"
   ]
  },
  {
   "cell_type": "code",
   "execution_count": null,
   "metadata": {},
   "outputs": [],
   "source": [
    "import pandas as pd\n",
    "import matplotlib.pyplot as plt\n",
    "\n",
    "df = pd.read_csv('bar_assignment.csv')\n",
    "df['Slist'] = df[['LABEL','COUNT']].apply(lambda x: 'Yes' if x['LABEL'] == 'S' and x['COUNT'] == 1 else 'No', axis=1)\n",
    "df['Nlist'] = df[['LABEL','COUNT']].apply(lambda x: 'Yes' if x['LABEL'] == 'N' and x['COUNT'] == 1 else 'No', axis=1)\n",
    "df['Ilist'] = df[['LABEL','COUNT']].apply(lambda x: 'Yes' if x['LABEL'] == 'I' and x['COUNT'] == 1 else 'No', axis=1)\n",
    "df['Flist'] = df[['LABEL','COUNT']].apply(lambda x: 'Yes' if x['LABEL'] == 'F' and x['COUNT'] == 1 else 'No', axis=1)\n",
    "df['Dlist'] = df[['LABEL','COUNT']].apply(lambda x: 'Yes' if x['LABEL'] == 'D' and x['COUNT'] == 1 else 'No', axis=1)\n",
    "\n",
    "counts = df.groupby('LABEL')['COUNT'].value_counts().unstack(fill_value=0)\n",
    "yes_counts = counts[1]  # Count of \"Yes\" responses\n",
    "no_counts = counts[0]   # Count of \"No\" responses\n",
    "\n",
    "fig, ax = plt.subplots(figsize=(8, 6))\n",
    "bars_yes = plt.barh(yes_counts.index, yes_counts,left= no_counts, color='blue', label='Yes')\n",
    "bars_no = plt.barh(no_counts.index, no_counts, color='red', label='No')\n",
    "\n",
    "for i, (yes, no) in enumerate(zip(yes_counts, no_counts)):\n",
    "    plt.text(no / 2, i, f'{no}', ha='center', va='center', color='white', fontweight='bold')\n",
    "    \n",
    "    plt.text(no + yes / 2, i, f'{yes}', ha='center', va='center', color='white', fontweight='bold')\n",
    "\n",
    "plt.title('Horizontal Stacked Bar Chart: Yes vs No', fontsize=14, fontweight='bold', pad=15)\n",
    "\n",
    "plt.legend(loc='upper left', fontsize=10, frameon=True, title='Legend Here', title_fontsize='12')\n",
    "\n",
    "plt.show()"
   ]
  }
 ],
 "metadata": {
  "kernelspec": {
   "display_name": "Python 3",
   "language": "python",
   "name": "python3"
  },
  "language_info": {
   "codemirror_mode": {
    "name": "ipython",
    "version": 3
   },
   "file_extension": ".py",
   "mimetype": "text/x-python",
   "name": "python",
   "nbconvert_exporter": "python",
   "pygments_lexer": "ipython3",
   "version": "3.13.2"
  }
 },
 "nbformat": 4,
 "nbformat_minor": 2
}
